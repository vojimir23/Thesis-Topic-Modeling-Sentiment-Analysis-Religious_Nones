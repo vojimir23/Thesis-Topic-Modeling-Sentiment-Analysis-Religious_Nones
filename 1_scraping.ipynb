{
 "cells": [
  {
   "cell_type": "markdown",
   "id": "c73a7a56",
   "metadata": {},
   "source": [
    "### Twitter data scraping"
   ]
  },
  {
   "cell_type": "code",
   "execution_count": null,
   "id": "6f11b467",
   "metadata": {},
   "outputs": [],
   "source": [
    "pip install snscrape"
   ]
  },
  {
   "cell_type": "code",
   "execution_count": null,
   "id": "c5dec6c8",
   "metadata": {},
   "outputs": [],
   "source": [
    "# Trying to scrape data for one account, limited at 5000 tweets and 3 years.\n",
    "import snscrape.modules.twitter as sntwitter\n",
    "import pandas as pd\n",
    "\n",
    "search_query = \"(from:@AtheistRepublic) until:2022-09-01 since:2019-08-01\"\n",
    "tweets = []\n",
    "tweet_limit = 5000\n",
    "\n",
    "for tweet in sntwitter.TwitterSearchScraper(search_query).get_items():\n",
    "    if len(tweets) == tweet_limit:\n",
    "        break\n",
    "    else:\n",
    "        tweets.append([tweet.date, tweet.username, tweet.content])\n",
    "        \n",
    "df = pd.DataFrame(tweets, columns=['Date', 'User', 'Tweet'])\n",
    "df.to_csv('tweets_.AtheistRepublic.csv')"
   ]
  },
  {
   "cell_type": "code",
   "execution_count": null,
   "id": "a78b1c3f",
   "metadata": {},
   "outputs": [],
   "source": [
    "all_accounts=[\"AtheistFeedz\", \"AtheistRepublic\", \"atheistolizer\", \n",
    " \"ThinkAtheist\", \"DamnedAtheists\", \"center4inquiry\", \"Humanists_UK\", \n",
    " \"GoogleAtheist\", \"AtheistMatch\", \"GlobalAtheist\", \"vjack\", \"BhartiyaAgnosti\", \n",
    " \"AtheistWorld\", \"UAAR_it\", \"HumanistNN\", \"atheistie\", \"WeLoveAtheism\", \"UngodlyAtheism\",\n",
    " \"HumanistReport\", \"seculardotorg\", \"AmericanAtheist\", \"atheistalliance\", \"AtheistsRead\", \"nyc_atheists\", \n",
    " \"SecularStudents\", \"TheCOAPodcast\", \"UnitedHumanists\", \"americnhumanist\", \"ProgAtheistsInc\", \"Black_Atheists\", \n",
    " \"stlatheists01\", \"HumanistsInt\", \"GshmFTW\", \"pdxhumanists\", \"TransAtheistPod\", \"AtheistsInKenya\", \"ThinkingAtheist\", \n",
    " \"AtheistAus\", \"AtheismResource\", \"ApostateAfrican\", \"heaven_atheist\", \"MSatheists\", \"AtheistsChaotic\", \"HappyAtheist\", \n",
    " \"BCHumanist\", \"humanistsociety\", \"Teeshumanists\", \"brumhums\", \n",
    " \"GMHumanists\", \"AtheistHitSquad\", \"HumanistsWhen\", \"anatheistnews\", \"CCHumanists\", \"AtheistsofFla\", \"Atheism101pod\", \n",
    " \"CanAtheist\", \"HumanistOhio\", \"htotwpodcast\", \"ardentatheists\", \"KCAtheists\", \"HarvardHumanist\", \"AtheistQOTD\", \"darkatheist\", \n",
    " \"PlymHumans\", \"HumanistStudent\", \"HAPItweets\", \"militaryatheist\", \"AtheistOK\", \"abhumanists\", \"AtheistEdge\", \"TweetsOfAtheism\", \"humanisthall\",\n",
    " \"Ceremonies_UK\", \"WeAreAtheism\", \"LabourHumanists\", \"repubatheists\", \"NewHumanist\", \"IndianAtheists\", \"HumanistDoodle\", \"ConservAtheist1\", \"humanism\", \n",
    " \"GlosHumanists\", \"CFImichigan\", \"HumanismSpeaks\", \"AtheismUK\", \"HumanismIreland\", \"LGBTQHumanists\", \"tgiatheist\", \"YoungHumanists\", \"CHShumanists\", \"BNonbelievers\", \n",
    " \"weagnosticspod\", \"LondonHumanists\", \"Tweathen\", \"HumanismEdu\", \"humanistwedding\", \"AtheistsTalk\", \"SELnHumanists\", \"HAHumanists\", \"londonhumanist\", \"HumanistSG\", \"vichumanist\",\n",
    " \"YoungHumanIntl\", \"HumanistChoir\", \"EU_Humanists\", \"suffolkhands\", \"Humanistco\", \"AtheistsLA\", \"AHAustralia\", \"AtheistMedia\", \"Dhumanists\", \"FFBAtheists\", \"WASHumanists\", \"AtheismEpicFail\", \n",
    " \"atheists4xmas\", \"AskAnAtheistWA\", \"floridahumanist\", \"humanism2014\", \"HumanismProject\", \"CapeHumanists\", \"prolifehumanist\", \"AtheistsOfUtah\", \"AtheistDiscord\", \"SoberAtheist\", \"iaatheists\", \"SecularUndergro\", \"HUUmanistsAssoc\", \"AtheismActually\", \"HumanistsGH\", \"sanjoseatheists\", \"partitoumanista\", \"EHSLI\", \"ATXHAW\", \"CDFHumanists\", \"secularmissoula\", \"CLT_Atheists\", \"PakistaniAA\", \"MNAtheists\", \"ExMuslimsOfNZ\", \"ex_africa\", \"ShropsHumanists\", \"humanistfunera1\", \"LivHumanists\", \"AtheistsLiberty\", \"HrfdHumanists\", \"SwindonHumanist\", \"anatheistblog\", \"MBhumanists\", \"YaleHumanists\", \"HumanistCommSV\", \"HumanistsRI\", \"LIAtheists\", \"BlackHumanists\", \"HSHTX\", \"NEHumanists\", \"CNYHumanists\", \"NoReligionIndo\", \"AHS_plus_blog\", \"dorsethumanists\", \"ChiHumanists\", \"harrowhumanists\", \"HumanistsWLE\", \"famousatheists\", \"TSH_News\", \"MSHumanists\", \"NIhumanists\", \n",
    " \"HumanistTweet\", \"atheiststoday\", \"HTX_Humanists\", \"ExeAHS\", \"MetAtheists\", \"HaitianAtheists\", \"WalesHumanists\", \"BostonAtheists\", \"AtheistNg\", \"ChiltHumanists\", \"humanistsmn\", \"NJHN_org\", \"humanist_vce\", \"HumanistsofFL\", \"LancUniHumanist\", \"jaxfreethought\", \"HumanistHelper\", \"aahumanism\", \"GWHumanists\", \"agnosticradio\", \"maltahumanists\", \"BHumanists\", \"WSHumanists\", \"CWHums\", \"HorshamHumanist\", \"JewishHumanism\", \"MovArturoAteo\", \"SydneyAtheists\", \"Humanist_Canada\", \"husahsoc\", \"HumanistALagos\", \"H_Heritage\", \"AtheismHumanism\", \"AtheistsStudio\", \"CanadaHumanist\", \"HantsHumanist\", \"AtheistVoices\", \"exehumans\", \"GlassHumanist\", \"York_Humanists\", \"RutgersHumanist\", \"ExHinduAtheist\", \"redbankhumanist\", \"shorva2011\", \"Iowa_Atheists\", \"LivUniHumanists\", \"AtheistBus\", \"HumanistClimate\", \"mortal_atheist\", \"AfghanHumanists\", \"NZAtheistBus\", \"theBHAblog\", \"cthumanist\", \n",
    " \"HumStudSoton\", \"GMHumanistChoir\", \"whcoslo2011\", \"WarksHumanists\", \"HumanistExp\", \"SeaAtheistChrch\", \"SLHumanists\", \"sea_atheists\", \"HSGP\", \"LVHumanists\", \"ChesterHumst\", \"Humanists4Biden\", \"NIAtheists\", \"AtheistsAtWork\", \"BASSatCal\", \"Humanists_Aus\", \"HumanistsKernow\", \"EdmontonAtheist\", \"ELonHumanists\", \"ChicagoHumanist\", \"Atheist_TV\", \"AtheistVoicesMN\", \"TheHumanistSoc\", \"humanistunion\", \"wyhumanists\", \"STHumanist\", \"HumanistNZ\", \"AXPliveshow\", \"HumanistTayside\", \"SeattleAtheists\", \"ShefHumanists\", \"hkatheists\", \"COHumanists\", \"osumcghhs\", \"CIHumanists\", \"APPGhumanists\", \"AthMemeStkrm\", \"GreekHumanists\", \"massatheists\", \"CUASHSoc\", \"pennghhs\", \"qmatheismsoc\", \"AthOnTwi\", \"CorkHumanists\", \"Tauntonhumanism\", \"UCDHumanist\", \"MidEastAtheists\", \"Goldhumanists\", \"NormalizingA\", \"thinkagnostic\", \"farnhamhumanist\", \"HumanistPodcast\", \"AAAPORG\", \"atheist_atheism\", \"HumanistsWA\", \"OxfordAtheists\", \"atheismisnormal\"]"
   ]
  },
  {
   "cell_type": "code",
   "execution_count": null,
   "id": "a9a12082",
   "metadata": {},
   "outputs": [],
   "source": [
    "# Scraping all possible tweets\n",
    "import snscrape.modules.twitter as sntwitter\n",
    "import csv\n",
    "unique_accounts=set(all_accounts) \n",
    "accounts = sorted(unique_accounts) #Sort & convert datatype to list\n",
    "\n",
    "with open('all_tweets.csv', 'w', newline='') as file:\n",
    "  for username in accounts:\n",
    "    writer = csv.writer(file)\n",
    "    for i, tweet in enumerate(sntwitter.TwitterSearchScraper('from:' +username+ ' since:2007-01-01 until:2023-01-30 lang:\"en\" ').get_items()):\n",
    "        writer.writerow([tweet.username, tweet.content.encode(\"utf-8\"), \n",
    "                         tweet.date, tweet.user.location,tweet.likeCount, \n",
    "                         tweet.retweetCount, tweet.user.followersCount, tweet.url])"
   ]
  }
 ],
 "metadata": {
  "hide_input": false,
  "kernelspec": {
   "display_name": "Python 3 (ipykernel)",
   "language": "python",
   "name": "python3"
  },
  "language_info": {
   "codemirror_mode": {
    "name": "ipython",
    "version": 3
   },
   "file_extension": ".py",
   "mimetype": "text/x-python",
   "name": "python",
   "nbconvert_exporter": "python",
   "pygments_lexer": "ipython3",
   "version": "3.10.4"
  },
  "varInspector": {
   "cols": {
    "lenName": 16,
    "lenType": 16,
    "lenVar": 40
   },
   "kernels_config": {
    "python": {
     "delete_cmd_postfix": "",
     "delete_cmd_prefix": "del ",
     "library": "var_list.py",
     "varRefreshCmd": "print(var_dic_list())"
    },
    "r": {
     "delete_cmd_postfix": ") ",
     "delete_cmd_prefix": "rm(",
     "library": "var_list.r",
     "varRefreshCmd": "cat(var_dic_list()) "
    }
   },
   "types_to_exclude": [
    "module",
    "function",
    "builtin_function_or_method",
    "instance",
    "_Feature"
   ],
   "window_display": false
  }
 },
 "nbformat": 4,
 "nbformat_minor": 5
}
